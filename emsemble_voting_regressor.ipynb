{
 "cells": [
  {
   "cell_type": "markdown",
   "id": "cbcda88b",
   "metadata": {},
   "source": [
    "<h2 align=\"center\">Codebasics ML Course: Ensemble Learning: Voting Regressor<h2>"
   ]
  },
  {
   "cell_type": "code",
   "execution_count": 15,
   "id": "c864136c",
   "metadata": {},
   "outputs": [
    {
     "data": {
      "text/html": [
       "<div>\n",
       "<style scoped>\n",
       "    .dataframe tbody tr th:only-of-type {\n",
       "        vertical-align: middle;\n",
       "    }\n",
       "\n",
       "    .dataframe tbody tr th {\n",
       "        vertical-align: top;\n",
       "    }\n",
       "\n",
       "    .dataframe thead th {\n",
       "        text-align: right;\n",
       "    }\n",
       "</style>\n",
       "<table border=\"1\" class=\"dataframe\">\n",
       "  <thead>\n",
       "    <tr style=\"text-align: right;\">\n",
       "      <th></th>\n",
       "      <th>area_sqr_ft</th>\n",
       "      <th>price_lakhs</th>\n",
       "      <th>bedrooms</th>\n",
       "    </tr>\n",
       "  </thead>\n",
       "  <tbody>\n",
       "    <tr>\n",
       "      <th>0</th>\n",
       "      <td>656.0</td>\n",
       "      <td>39.0</td>\n",
       "      <td>2</td>\n",
       "    </tr>\n",
       "    <tr>\n",
       "      <th>1</th>\n",
       "      <td>1260.0</td>\n",
       "      <td>83.2</td>\n",
       "      <td>2</td>\n",
       "    </tr>\n",
       "    <tr>\n",
       "      <th>2</th>\n",
       "      <td>1057.0</td>\n",
       "      <td>86.6</td>\n",
       "      <td>3</td>\n",
       "    </tr>\n",
       "    <tr>\n",
       "      <th>3</th>\n",
       "      <td>1259.0</td>\n",
       "      <td>59.0</td>\n",
       "      <td>2</td>\n",
       "    </tr>\n",
       "    <tr>\n",
       "      <th>4</th>\n",
       "      <td>1800.0</td>\n",
       "      <td>140.0</td>\n",
       "      <td>3</td>\n",
       "    </tr>\n",
       "    <tr>\n",
       "      <th>...</th>\n",
       "      <td>...</td>\n",
       "      <td>...</td>\n",
       "      <td>...</td>\n",
       "    </tr>\n",
       "    <tr>\n",
       "      <th>195</th>\n",
       "      <td>1412.0</td>\n",
       "      <td>71.0</td>\n",
       "      <td>2</td>\n",
       "    </tr>\n",
       "    <tr>\n",
       "      <th>196</th>\n",
       "      <td>1140.0</td>\n",
       "      <td>67.0</td>\n",
       "      <td>2</td>\n",
       "    </tr>\n",
       "    <tr>\n",
       "      <th>197</th>\n",
       "      <td>1501.0</td>\n",
       "      <td>80.0</td>\n",
       "      <td>2</td>\n",
       "    </tr>\n",
       "    <tr>\n",
       "      <th>198</th>\n",
       "      <td>1408.0</td>\n",
       "      <td>69.0</td>\n",
       "      <td>2</td>\n",
       "    </tr>\n",
       "    <tr>\n",
       "      <th>199</th>\n",
       "      <td>1198.0</td>\n",
       "      <td>56.0</td>\n",
       "      <td>2</td>\n",
       "    </tr>\n",
       "  </tbody>\n",
       "</table>\n",
       "<p>200 rows × 3 columns</p>\n",
       "</div>"
      ],
      "text/plain": [
       "     area_sqr_ft  price_lakhs  bedrooms\n",
       "0          656.0         39.0         2\n",
       "1         1260.0         83.2         2\n",
       "2         1057.0         86.6         3\n",
       "3         1259.0         59.0         2\n",
       "4         1800.0        140.0         3\n",
       "..           ...          ...       ...\n",
       "195       1412.0         71.0         2\n",
       "196       1140.0         67.0         2\n",
       "197       1501.0         80.0         2\n",
       "198       1408.0         69.0         2\n",
       "199       1198.0         56.0         2\n",
       "\n",
       "[200 rows x 3 columns]"
      ]
     },
     "execution_count": 15,
     "metadata": {},
     "output_type": "execute_result"
    }
   ],
   "source": [
    "import pandas as pd\n",
    "\n",
    "df = pd.read_csv(\"regression_home_prices.csv\")\n",
    "df"
   ]
  },
  {
   "cell_type": "markdown",
   "id": "53337bb7",
   "metadata": {},
   "source": [
    "### Train Test Split"
   ]
  },
  {
   "cell_type": "code",
   "execution_count": 16,
   "id": "2dc9d653",
   "metadata": {},
   "outputs": [],
   "source": [
    "from sklearn.model_selection import train_test_split\n",
    "\n",
    "X = df[[\"area_sqr_ft\",\"bedrooms\"]]\n",
    "y = df[\"price_lakhs\"]\n",
    "\n",
    "X_train, X_test, y_train, y_test = train_test_split(X, y, test_size=0.2, random_state=10)"
   ]
  },
  {
   "cell_type": "markdown",
   "id": "c315493e",
   "metadata": {},
   "source": [
    "### Let us now train the machine learning model using Linear Regression"
   ]
  },
  {
   "cell_type": "code",
   "execution_count": 17,
   "id": "97b5370d",
   "metadata": {
    "scrolled": true
   },
   "outputs": [
    {
     "data": {
      "text/plain": [
       "0.8874887686858771"
      ]
     },
     "execution_count": 17,
     "metadata": {},
     "output_type": "execute_result"
    }
   ],
   "source": [
    "from sklearn.linear_model import LinearRegression\n",
    "\n",
    "model = LinearRegression()\n",
    "model.fit(X_train, y_train)\n",
    "model.score(X_test, y_test)"
   ]
  },
  {
   "cell_type": "code",
   "execution_count": 23,
   "id": "59cd06ec",
   "metadata": {},
   "outputs": [
    {
     "data": {
      "text/plain": [
       "array([79.15940002, 70.96469522, 63.51496358])"
      ]
     },
     "execution_count": 23,
     "metadata": {},
     "output_type": "execute_result"
    }
   ],
   "source": [
    "model.predict(X_test[:3])"
   ]
  },
  {
   "cell_type": "code",
   "execution_count": 26,
   "id": "ec496f69",
   "metadata": {},
   "outputs": [
    {
     "data": {
      "text/plain": [
       "[68.0, 80.1, 69.0]"
      ]
     },
     "execution_count": 26,
     "metadata": {},
     "output_type": "execute_result"
    }
   ],
   "source": [
    "y_test[:3].to_list()"
   ]
  },
  {
   "cell_type": "markdown",
   "id": "e1061c15",
   "metadata": {},
   "source": [
    "### Now use voting regressor"
   ]
  },
  {
   "cell_type": "code",
   "execution_count": 20,
   "id": "b6851d89",
   "metadata": {},
   "outputs": [
    {
     "data": {
      "text/plain": [
       "0.870340859079508"
      ]
     },
     "execution_count": 20,
     "metadata": {},
     "output_type": "execute_result"
    }
   ],
   "source": [
    "from sklearn.ensemble import VotingRegressor\n",
    "\n",
    "from sklearn.linear_model import LinearRegression, Ridge\n",
    "from sklearn.tree import DecisionTreeRegressor\n",
    "\n",
    "# Create different regression models\n",
    "lin_reg = LinearRegression()\n",
    "ridge_reg = Ridge(alpha=1.0)\n",
    "dt_reg = DecisionTreeRegressor()\n",
    "\n",
    "\n",
    "vr = VotingRegressor(estimators=[\n",
    "    ('lr', lin_reg),\n",
    "    ('rr', ridge_reg),\n",
    "    ('dr', dt_reg)\n",
    "])\n",
    "\n",
    "vr.fit(X_train, y_train)\n",
    "vr.score(X_test, y_test)"
   ]
  },
  {
   "cell_type": "markdown",
   "id": "a419641d",
   "metadata": {},
   "source": [
    "The model performance (or the score which is 0.87) is a bit lower than the one we got with single model (i.e 0.88),  you can play with parameters in decision tree, ridge and linear regression model that was used in voting regressor to improve the performance. In any case, with this tutorial, I hope you got an understanding of how to use voting regressor to train multiple models and combine their results"
   ]
  },
  {
   "cell_type": "markdown",
   "id": "3abff083",
   "metadata": {},
   "source": [
    "### Prediction on sample data"
   ]
  },
  {
   "cell_type": "code",
   "execution_count": 27,
   "id": "c7498216",
   "metadata": {},
   "outputs": [
    {
     "data": {
      "text/plain": [
       "array([80.22148778, 70.08163805, 65.10601709])"
      ]
     },
     "execution_count": 27,
     "metadata": {},
     "output_type": "execute_result"
    }
   ],
   "source": [
    "vr.predict(X_test[:3])"
   ]
  },
  {
   "cell_type": "code",
   "execution_count": 28,
   "id": "eece6045",
   "metadata": {},
   "outputs": [
    {
     "data": {
      "text/plain": [
       "[68.0, 80.1, 69.0]"
      ]
     },
     "execution_count": 28,
     "metadata": {},
     "output_type": "execute_result"
    }
   ],
   "source": [
    "y_test[:3].to_list()"
   ]
  }
 ],
 "metadata": {
  "kernelspec": {
   "display_name": "Python 3 (ipykernel)",
   "language": "python",
   "name": "python3"
  },
  "language_info": {
   "codemirror_mode": {
    "name": "ipython",
    "version": 3
   },
   "file_extension": ".py",
   "mimetype": "text/x-python",
   "name": "python",
   "nbconvert_exporter": "python",
   "pygments_lexer": "ipython3",
   "version": "3.10.11"
  }
 },
 "nbformat": 4,
 "nbformat_minor": 5
}
